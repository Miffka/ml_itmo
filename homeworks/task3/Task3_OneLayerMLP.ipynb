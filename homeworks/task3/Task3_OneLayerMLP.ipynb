{
 "cells": [
  {
   "cell_type": "markdown",
   "metadata": {},
   "source": [
    "# Imports"
   ]
  },
  {
   "cell_type": "code",
   "execution_count": 52,
   "metadata": {},
   "outputs": [],
   "source": [
    "import os\n",
    "import os.path as osp\n",
    "\n",
    "import numpy as np\n",
    "import pandas as pd\n",
    "import matplotlib.pyplot as plt\n",
    "from sklearn import metrics\n",
    "from sklearn.model_selection import train_test_split\n",
    "import seaborn as sns\n",
    "\n",
    "from utils.config import config"
   ]
  },
  {
   "cell_type": "markdown",
   "metadata": {},
   "source": [
    "**Disclaimer:**\n",
    "\n",
    "Used implementations are borrowed from [cs231n](http://cs231n.stanford.edu/) and [dlcourse.ai](https://dlcourse.ai/) homeworks. Here backward and forward passes are distinguished, and layers are implemented so that they eventually allow to use chain rule. The abstractions are debugged so that the results coincide with the functions provided during labs."
   ]
  },
  {
   "cell_type": "markdown",
   "metadata": {},
   "source": [
    "# Implementation of sigmoid and binary cross-entropy and its grads"
   ]
  },
  {
   "cell_type": "code",
   "execution_count": 2,
   "metadata": {},
   "outputs": [],
   "source": [
    "def sigmoid(z):\n",
    "    \"\"\"\n",
    "    Compute the sigmoid of z\n",
    "\n",
    "    Arguments:\n",
    "    z -- A scalar or numpy array of any size.\n",
    "\n",
    "    Return:\n",
    "    s -- sigmoid(z)\n",
    "    \"\"\"\n",
    "    s = 1. / (1. + np.exp(-z))\n",
    "    \n",
    "    return s\n",
    "\n",
    "def bcc(probas, y_true):\n",
    "    assert probas.shape == y_true.shape, f\"Probas shape {probas.shape}, y true shape {y_true.shape}\"\n",
    "    return - np.mean(y_true * np.log(probas) + (1 - y_true) * np.log(1 - probas))\n",
    "\n",
    "def bcc_with_sigmoid(logits, y):\n",
    "    \n",
    "    # Forward part\n",
    "    probas = sigmoid(logits)\n",
    "    loss = bcc(probas, y)\n",
    "    \n",
    "    # Backward part\n",
    "    grad = - 1. / y.shape[0] * (y - probas)\n",
    "    \n",
    "    return loss, grad"
   ]
  },
  {
   "cell_type": "markdown",
   "metadata": {},
   "source": [
    "# Implementation of layers"
   ]
  },
  {
   "cell_type": "code",
   "execution_count": 3,
   "metadata": {},
   "outputs": [],
   "source": [
    "class Param:\n",
    "    \"\"\"\n",
    "    Trainable parameter of the model\n",
    "    Captures both parameter value and the gradient\n",
    "    \"\"\"\n",
    "\n",
    "    def __init__(self, value):\n",
    "        self.value = value\n",
    "        self.grad = np.zeros_like(value)\n",
    "\n",
    "        \n",
    "class FullyConnectedLayer:\n",
    "    def __init__(self, n_input, n_output, W=None, B=None, init=\"xavier\", random_seed=24):\n",
    "        np.random.seed(random_seed)\n",
    "        if init == \"xavier\":\n",
    "            self.W = Param(np.sqrt(2/(n_input*10)) * np.random.randn(n_input, n_output))\n",
    "            self.B = Param(np.sqrt(2/(n_input*10)) * np.random.randn(1, n_output))\n",
    "        elif init == \"zeros\":\n",
    "            self.W = Param(np.zeros((n_input, n_output)))\n",
    "            self.B = Param(np.zeros((1, n_output)))\n",
    "        if W is not None:\n",
    "            self.W.value = W\n",
    "        if B is not None:\n",
    "            self.B.value = B\n",
    "        self.X = None\n",
    "\n",
    "    def forward(self, X):\n",
    "        self.X = X\n",
    "        out = np.dot(X, self.W.value) + self.B.value\n",
    "        return out\n",
    "\n",
    "    def backward(self, d_out):\n",
    "        \"\"\"\n",
    "        Backward pass\n",
    "        Computes gradient with respect to input and\n",
    "        accumulates gradients within self.W and self.B\n",
    "\n",
    "        Arguments:\n",
    "        d_out, np array (batch_size, n_output) - gradient\n",
    "           of loss function with respect to output\n",
    "\n",
    "        Returns:\n",
    "        d_result: np array (batch_size, n_input) - gradient\n",
    "          with respect to input\n",
    "        \"\"\"\n",
    "\n",
    "        d_result = np.dot(self.W.value, d_out.T).T\n",
    "        self.W.grad = np.dot(self.X.T, d_out)\n",
    "        self.B.grad = np.sum(d_out, axis=0, keepdims=True)\n",
    "\n",
    "        return d_result\n",
    "\n",
    "    def params(self):\n",
    "        return {\"W\": self.W, \"B\": self.B}\n",
    "    \n",
    "\n",
    "class LogReg:\n",
    "    def __init__(self, n_input, n_output=1, W=None, B=None):\n",
    "        self.layer = FullyConnectedLayer(n_input, n_output, W=W, B=B)\n",
    "\n",
    "    def forward_train(self, X, y):\n",
    "        \"\"\"\n",
    "        Computes total loss and updates parameter gradients\n",
    "        on a batch of training examples\n",
    "\n",
    "        Arguments:\n",
    "        X, np array (batch_size, input_features) - input data\n",
    "        y, np array of int (batch_size) - classes\n",
    "        \"\"\"\n",
    "        # Zero gradients\n",
    "        params = self.params()\n",
    "        for param in params.keys():\n",
    "            params[param].grad = np.zeros_like(params[param].grad)\n",
    "        \n",
    "        # Forward pass\n",
    "        out = self.layer.forward(X)\n",
    "        \n",
    "        # Compute loss\n",
    "        loss, grad = bcc_with_sigmoid(out, y)\n",
    "        \n",
    "        # Backward pass\n",
    "        grad_out = self.layer.backward(grad)\n",
    "\n",
    "        return loss\n",
    "    \n",
    "    def forward_eval(self, X):\n",
    "        out = self.layer.forward(X)\n",
    "        out = sigmoid(out)\n",
    "        return out\n",
    "        \n",
    "    def params(self):\n",
    "        return self.layer.params()"
   ]
  },
  {
   "cell_type": "markdown",
   "metadata": {},
   "source": [
    "### Check that the values in the example are the same as in the example in original notebook"
   ]
  },
  {
   "cell_type": "code",
   "execution_count": 4,
   "metadata": {},
   "outputs": [
    {
     "name": "stdout",
     "output_type": "stream",
     "text": [
      "(2, 1) (1,) (3, 2) (3, 1)\n"
     ]
    },
    {
     "data": {
      "text/plain": [
       "(0.002955374934226532,\n",
       " array([[0.0027004 ],\n",
       "        [0.02446984]]),\n",
       " array([[0.00151471]]))"
      ]
     },
     "execution_count": 4,
     "metadata": {},
     "output_type": "execute_result"
    }
   ],
   "source": [
    "w, b, X, Y = np.array([[1.],[-1.]]), np.asarray([4.]), np.array([[1.,5.,-1.],[10.,0.,-3.2]]).T, np.array([[0,1,1]]).T\n",
    "\n",
    "print(w.shape, b.shape, X.shape, Y.shape)\n",
    "\n",
    "lg = LogReg(2, W=w, B=b)\n",
    "loss = lg.forward_train(X, Y)\n",
    "loss, lg.layer.W.grad, lg.layer.B.grad"
   ]
  },
  {
   "cell_type": "markdown",
   "metadata": {},
   "source": [
    "# Optimizers"
   ]
  },
  {
   "cell_type": "code",
   "execution_count": 5,
   "metadata": {},
   "outputs": [],
   "source": [
    "class SGD:\n",
    "    def __init__(self, learning_rate, params=None):\n",
    "        self.lr = learning_rate\n",
    "    \n",
    "    def update(self, w, d_w, param_name=None):\n",
    "        return w - d_w * self.lr\n",
    "    \n",
    "class Adam:\n",
    "    def __init__(self, learning_rate, params, beta_1=0.9, beta_2=0.999, eps=1e-8):\n",
    "        self.lr = learning_rate\n",
    "        self.beta_1 = beta_1\n",
    "        self.beta_2 = beta_2\n",
    "        self.eps = eps\n",
    "\n",
    "        self.m_t = {}\n",
    "        self.v_t = {}\n",
    "        self.t = {}\n",
    "        self.beta_1_t = {}\n",
    "        self.beta_2_t = {}\n",
    "        for param_name, param in params.items():\n",
    "            self.m_t[param_name] = np.zeros_like(param)\n",
    "            self.v_t[param_name] = np.zeros_like(param)\n",
    "            self.t[param_name] = 0\n",
    "            self.beta_1_t[param_name] = self.beta_1\n",
    "            self.beta_2_t[param_name] = self.beta_2\n",
    "    \n",
    "    def update(self, w, d_w, param_name):\n",
    "        self.t[param_name] += 1\n",
    "        self.m_t[param_name] = self.beta_1 * self.m_t[param_name] + (1 - self.beta_1) * d_w\n",
    "        self.v_t[param_name] = self.beta_2 * self.v_t[param_name] + (1 - self.beta_2) * (d_w ** 2)\n",
    "        self.beta_1_t[param_name] *= self.beta_1\n",
    "        self.beta_2_t[param_name] *= self.beta_2\n",
    "        m_hat_t = self.m_t[param_name] / (1 - self.beta_1_t[param_name])\n",
    "        v_hat_t = self.v_t[param_name] / (1 - self.beta_2_t[param_name])\n",
    "        return w - self.lr * m_hat_t / (np.sqrt(v_hat_t) + self.eps)"
   ]
  },
  {
   "cell_type": "markdown",
   "metadata": {},
   "source": [
    "# Train function"
   ]
  },
  {
   "cell_type": "code",
   "execution_count": 25,
   "metadata": {},
   "outputs": [],
   "source": [
    "def step(batch_X, batch_y, model, optim):\n",
    "    # Cost and gradient calculation \n",
    "    loss = model.forward_train(batch_X, batch_y)\n",
    "\n",
    "    # Update params based on gradients\n",
    "    for param_name, param in model.params().items():\n",
    "        param.value = optim.update(param.value, param.grad, param_name)\n",
    "    \n",
    "    return loss\n",
    "\n",
    "\n",
    "def optimize(w, b, X, Y, num_iterations, learning_rate, algorithm_name=\"SGD\", batched=False, batch_size=16, print_cost=False):\n",
    "    \"\"\"\n",
    "    This function optimizes w and b by running a gradient descent algorithm\n",
    "    \n",
    "    Arguments:\n",
    "    w -- weights, a numpy array \n",
    "    b -- bias, a scalar\n",
    "    X -- data \n",
    "    Y -- true \"label\" vector (containing 0 and 1), of shape (1, number of examples)\n",
    "    num_iterations -- number of iterations of the optimization loop\n",
    "    learning_rate -- learning rate of the gradient descent update rule\n",
    "    print_cost -- True to print the loss every 100 steps\n",
    "    \n",
    "    Returns:\n",
    "    params -- dictionary containing the weights w and bias b\n",
    "    grads -- dictionary containing the gradients of the weights and bias with respect to the cost function\n",
    "    costs -- list of all the costs computed during the optimization, this will be used to plot the learning curve.\n",
    "    \n",
    "    \"\"\"\n",
    "    np.random.seed(24)\n",
    "    \n",
    "    model = LogReg(X.shape[1], W=w, B=b)\n",
    "    \n",
    "    assert algorithm_name in {\"SGD\", \"Adam\"}\n",
    "    if algorithm_name == \"SGD\":\n",
    "        optim = SGD(learning_rate=learning_rate)\n",
    "    elif algorithm_name == \"Adam\":\n",
    "        optim = Adam(learning_rate=learning_rate, params=model.params())\n",
    "    \n",
    "    costs = []\n",
    "    \n",
    "    for i in range(num_iterations):\n",
    "        if batched:\n",
    "            shuffled_indices = np.arange(X.shape[0])\n",
    "            np.random.shuffle(shuffled_indices)\n",
    "            sections = np.arange(batch_size, X.shape[0], batch_size)\n",
    "            batched_indices = np.array_split(shuffled_indices, sections)\n",
    "            running_loss = 0\n",
    "            \n",
    "            for batch_ids in batched_indices:\n",
    "                batch_X = X[batch_ids].copy()\n",
    "                batch_y = Y[batch_ids].copy()\n",
    "                \n",
    "                loss = step(batch_X, batch_y, model, optim)\n",
    "                running_loss += loss\n",
    "            loss = running_loss / len(batched_indices)\n",
    "        else:\n",
    "            loss = step(X, Y, model, optim)\n",
    "        \n",
    "        # Record the costs\n",
    "        if i % 100 == 0:\n",
    "            costs.append(loss)\n",
    "        \n",
    "        # Print the cost every 100 training iterations\n",
    "        if print_cost and i % 100 == 0:\n",
    "            print (\"Cost after iteration %i: %f\" %(i, loss))\n",
    "    \n",
    "    return model, costs"
   ]
  },
  {
   "cell_type": "markdown",
   "metadata": {},
   "source": [
    "### Make sure that we did everything right"
   ]
  },
  {
   "cell_type": "code",
   "execution_count": 7,
   "metadata": {},
   "outputs": [
    {
     "name": "stdout",
     "output_type": "stream",
     "text": [
      "Cost after iteration 0: 0.002955\n",
      "Cost after iteration 100: 0.002683\n",
      "Cost after iteration 200: 0.002461\n",
      "Cost after iteration 300: 0.002278\n",
      "Cost after iteration 400: 0.002124\n",
      "Cost after iteration 500: 0.001991\n",
      "Cost after iteration 600: 0.001877\n",
      "Cost after iteration 700: 0.001777\n",
      "Cost after iteration 800: 0.001689\n",
      "Cost after iteration 900: 0.001611\n",
      "w = [[ 0.99092423]\n",
      " [-1.08149946]]\n",
      "b = [[3.99591156]]\n",
      "dw = [[0.00128065]\n",
      " [0.01144573]]\n",
      "db = [[0.00041775]]\n"
     ]
    }
   ],
   "source": [
    "model, costs = optimize(w, b, X, Y, num_iterations=1000, learning_rate=0.005, print_cost=True)\n",
    "\n",
    "print(f\"w = {model.layer.W.value}\")\n",
    "print(f\"b = {model.layer.B.value}\")\n",
    "print(f\"dw = {model.layer.W.grad}\")\n",
    "print(f\"db = {model.layer.B.grad}\")"
   ]
  },
  {
   "cell_type": "code",
   "execution_count": 13,
   "metadata": {},
   "outputs": [
    {
     "name": "stdout",
     "output_type": "stream",
     "text": [
      "Cost after iteration 0: 0.824838\n",
      "Cost after iteration 100: 0.442080\n",
      "Cost after iteration 200: 0.300160\n",
      "Cost after iteration 300: 0.221214\n",
      "Cost after iteration 400: 0.169239\n",
      "Cost after iteration 500: 0.132932\n",
      "Cost after iteration 600: 0.106732\n",
      "Cost after iteration 700: 0.087335\n",
      "Cost after iteration 800: 0.072642\n",
      "Cost after iteration 900: 0.061280\n",
      "w = [[-2.04085963]\n",
      " [ 1.08084003]]\n",
      "b = [[-1.59008724]]\n",
      "dw = [[ 0.05703178]\n",
      " [-0.00250016]]\n",
      "db = [[0.00852372]]\n"
     ]
    }
   ],
   "source": [
    "model, costs = optimize(w, b, X, Y, num_iterations=1000, algorithm_name=\"Adam\", learning_rate=0.005, print_cost=True)\n",
    "\n",
    "print(f\"w = {model.layer.W.value}\")\n",
    "print(f\"b = {model.layer.B.value}\")\n",
    "print(f\"dw = {model.layer.W.grad}\")\n",
    "print(f\"db = {model.layer.B.grad}\")"
   ]
  },
  {
   "cell_type": "markdown",
   "metadata": {},
   "source": [
    "# Predict function"
   ]
  },
  {
   "cell_type": "code",
   "execution_count": 8,
   "metadata": {},
   "outputs": [],
   "source": [
    "def predict(model, X, w=None, b=None):\n",
    "    '''\n",
    "    Predict whether the label is 0 or 1 using learned logistic regression parameters (w, b)\n",
    "    \n",
    "    Arguments:\n",
    "    w -- weights, a numpy array \n",
    "    b -- bias, a scalar\n",
    "    X -- data \n",
    "    \n",
    "    Returns:\n",
    "    Y_prediction -- a numpy array (vector) containing all predictions (0/1) for the examples in X\n",
    "    '''\n",
    "    if (w is not None) and (b is not None):\n",
    "        model = LogReg(X.shape[1], W=w, B=b)\n",
    "        \n",
    "    probas = model.forward_eval(X)\n",
    "    Y_prediction = (probas > 0.5).astype(int)\n",
    "    \n",
    "    return Y_prediction"
   ]
  },
  {
   "cell_type": "markdown",
   "metadata": {},
   "source": [
    "### Again make sure everything conicides wtih the code in notebook from labs"
   ]
  },
  {
   "cell_type": "code",
   "execution_count": 9,
   "metadata": {},
   "outputs": [
    {
     "name": "stdout",
     "output_type": "stream",
     "text": [
      "predictions = [[1]\n",
      " [1]\n",
      " [0]]\n"
     ]
    }
   ],
   "source": [
    "w = np.array([[0.1124579],[0.23106775]])\n",
    "b = np.asarray([-0.3])\n",
    "X = np.array([[1.,-1.1,-3.2],[1.2,2.,0.1]]).T\n",
    "print (\"predictions = \" + str(predict(model, X, w=w, b=b)))"
   ]
  },
  {
   "cell_type": "markdown",
   "metadata": {},
   "source": [
    "# Train and eval function"
   ]
  },
  {
   "cell_type": "code",
   "execution_count": 21,
   "metadata": {},
   "outputs": [],
   "source": [
    "def train_eval(\n",
    "    X_train, \n",
    "    Y_train, \n",
    "    X_test, \n",
    "    Y_test, \n",
    "    init=\"zeros\", \n",
    "    algorithm_name=\"SGD\", \n",
    "    batched=False, \n",
    "    batch_size=16, \n",
    "    num_iterations=2000, \n",
    "    learning_rate=0.5, \n",
    "    print_cost=False):\n",
    "    \"\"\"\n",
    "    Builds the logistic regression model by calling the function we've implemented previously\n",
    "    \n",
    "    Arguments:\n",
    "    X_train -- training set represented by a numpy array \n",
    "    Y_train -- training labels represented by a numpy array (vector) of shape (1, m_train)\n",
    "    X_test -- test set represented by a numpy array \n",
    "    Y_test -- test labels represented by a numpy array (vector) of shape (1, m_test)\n",
    "    num_iterations -- hyperparameter representing the number of iterations to optimize the parameters\n",
    "    learning_rate -- hyperparameter representing the learning rate used in the update rule of optimize()\n",
    "    print_cost -- Set to true to print the cost every 100 iterations\n",
    "    \n",
    "    Returns:\n",
    "    d -- dictionary containing information about the model.\n",
    "    \"\"\"\n",
    "    \n",
    "    model = LogReg(X_train.shape[1])\n",
    "\n",
    "    # Gradient descent\n",
    "    model, costs = optimize(\n",
    "        w=None, \n",
    "        b=None, \n",
    "        X=X_train, \n",
    "        Y=Y_train, \n",
    "        num_iterations=num_iterations, \n",
    "        learning_rate=learning_rate, \n",
    "        algorithm_name=algorithm_name, \n",
    "        batched=batched, \n",
    "        batch_size=batch_size, \n",
    "        print_cost=print_cost)\n",
    "    \n",
    "    # Predict test/train set examples\n",
    "    Y_prediction_test = predict(model, X_test)\n",
    "    Y_prediction_train = predict(model, X_train)\n",
    "\n",
    "    # Print train/test Errors\n",
    "    print(\"train accuracy: {} %\".format(100 - np.mean(np.abs(Y_prediction_train - Y_train)) * 100))\n",
    "    print(\"test accuracy: {} %\".format(100 - np.mean(np.abs(Y_prediction_test - Y_test)) * 100))\n",
    "\n",
    "    d = {\"costs\": costs,\n",
    "         \"Y_prediction_test\": Y_prediction_test, \n",
    "         \"Y_prediction_train\" : Y_prediction_train, \n",
    "         \"w\" : w, \n",
    "         \"b\" : b,\n",
    "         \"learning_rate\" : learning_rate,\n",
    "         \"num_iterations\": num_iterations}\n",
    "    \n",
    "    return d"
   ]
  },
  {
   "cell_type": "markdown",
   "metadata": {},
   "source": [
    "# Load data"
   ]
  },
  {
   "cell_type": "code",
   "execution_count": 22,
   "metadata": {},
   "outputs": [],
   "source": [
    "df_path = osp.join(config.data_dir, \"task1\", \"bioresponse.csv\")\n",
    "df = pd.read_csv(df_path)\n",
    "\n",
    "df_train, df_test = train_test_split(df, test_size=0.25, random_state=24, stratify=df[\"Activity\"])\n",
    "\n",
    "X_train = df_train.drop(columns=\"Activity\").values\n",
    "Y_train = df_train[[\"Activity\"]].values\n",
    "X_test = df_test.drop(columns=\"Activity\").values\n",
    "Y_test = df_test[[\"Activity\"]].values"
   ]
  },
  {
   "cell_type": "markdown",
   "metadata": {},
   "source": [
    "# (1) Apply the logistic regression method to predict the biological response of a molecule \n",
    "\n",
    "**Spoiler**: with Xavier initialization and 2000 of iterations test accuracy is about **0.688**."
   ]
  },
  {
   "cell_type": "code",
   "execution_count": 23,
   "metadata": {},
   "outputs": [
    {
     "name": "stdout",
     "output_type": "stream",
     "text": [
      "Cost after iteration 0: 0.700621\n",
      "Cost after iteration 100: 0.677810\n",
      "Cost after iteration 200: 0.670104\n",
      "Cost after iteration 300: 0.663753\n",
      "Cost after iteration 400: 0.657907\n",
      "Cost after iteration 500: 0.652462\n",
      "Cost after iteration 600: 0.647367\n",
      "Cost after iteration 700: 0.642585\n",
      "Cost after iteration 800: 0.638081\n",
      "Cost after iteration 900: 0.633828\n",
      "Cost after iteration 1000: 0.629803\n",
      "Cost after iteration 1100: 0.625985\n",
      "Cost after iteration 1200: 0.622356\n",
      "Cost after iteration 1300: 0.618899\n",
      "Cost after iteration 1400: 0.615601\n",
      "Cost after iteration 1500: 0.612450\n",
      "Cost after iteration 1600: 0.609433\n",
      "Cost after iteration 1700: 0.606542\n",
      "Cost after iteration 1800: 0.603766\n",
      "Cost after iteration 1900: 0.601099\n",
      "train accuracy: 71.91610380376821 %\n",
      "test accuracy: 68.7633262260128 %\n"
     ]
    }
   ],
   "source": [
    "d = train_eval(X_train, Y_train, X_test, Y_test, num_iterations=2000, learning_rate=0.001, print_cost=True)"
   ]
  },
  {
   "cell_type": "markdown",
   "metadata": {},
   "source": [
    "# (2) Modify optimize() function to implement the stochastic gradient descent (SGD) method. Apply it to solve the problem from p.1.\n",
    "\n",
    "**Spoiler**: Xavier initialization + batched training with batch size 128 => test accuracy **0.766**."
   ]
  },
  {
   "cell_type": "code",
   "execution_count": 27,
   "metadata": {},
   "outputs": [
    {
     "name": "stdout",
     "output_type": "stream",
     "text": [
      "Cost after iteration 0: 0.696034\n",
      "Cost after iteration 100: 0.593545\n",
      "Cost after iteration 200: 0.555732\n",
      "Cost after iteration 300: 0.532517\n",
      "Cost after iteration 400: 0.516360\n",
      "Cost after iteration 500: 0.504276\n",
      "Cost after iteration 600: 0.494598\n",
      "Cost after iteration 700: 0.486751\n",
      "Cost after iteration 800: 0.480230\n",
      "Cost after iteration 900: 0.474528\n",
      "Cost after iteration 1000: 0.469642\n",
      "Cost after iteration 1100: 0.465317\n",
      "Cost after iteration 1200: 0.461361\n",
      "Cost after iteration 1300: 0.457831\n",
      "Cost after iteration 1400: 0.454738\n",
      "Cost after iteration 1500: 0.451604\n",
      "Cost after iteration 1600: 0.448915\n",
      "Cost after iteration 1700: 0.446261\n",
      "Cost after iteration 1800: 0.443850\n",
      "Cost after iteration 1900: 0.441709\n",
      "train accuracy: 80.59011731247779 %\n",
      "test accuracy: 76.65245202558636 %\n"
     ]
    }
   ],
   "source": [
    "d = train_eval(X_train, Y_train, X_test, Y_test, batched=True, batch_size=128, num_iterations=2000, learning_rate=0.001, print_cost=True)"
   ]
  },
  {
   "cell_type": "markdown",
   "metadata": {},
   "source": [
    "# (3) For two modifications of gradient descent (pp. 1 and 2), plot the learning curves (dependence of the value of the loss function on the iteration number), apply models with different values of the learning rate (at least 5 different learning rates). How does it affect the accuracy of the model?"
   ]
  },
  {
   "cell_type": "code",
   "execution_count": 29,
   "metadata": {},
   "outputs": [
    {
     "name": "stdout",
     "output_type": "stream",
     "text": [
      "\n",
      "Learning rate: 0.0001, batched: False\n",
      "Cost after iteration 0: 0.700621\n",
      "Cost after iteration 100: 0.695800\n",
      "Cost after iteration 200: 0.691990\n",
      "Cost after iteration 300: 0.688944\n",
      "Cost after iteration 400: 0.686473\n",
      "Cost after iteration 500: 0.684436\n",
      "Cost after iteration 600: 0.682726\n",
      "Cost after iteration 700: 0.681263\n",
      "Cost after iteration 800: 0.679988\n",
      "Cost after iteration 900: 0.678854\n",
      "Cost after iteration 1000: 0.677829\n",
      "Cost after iteration 1100: 0.676886\n",
      "Cost after iteration 1200: 0.676007\n",
      "Cost after iteration 1300: 0.675178\n",
      "Cost after iteration 1400: 0.674387\n",
      "Cost after iteration 1500: 0.673626\n",
      "Cost after iteration 1600: 0.672890\n",
      "Cost after iteration 1700: 0.672173\n",
      "Cost after iteration 1800: 0.671472\n",
      "Cost after iteration 1900: 0.670785\n",
      "train accuracy: 58.478492712406684 %\n",
      "test accuracy: 57.24946695095949 %\n",
      "\n",
      "Learning rate: 0.0001, batched: True\n",
      "Cost after iteration 0: 0.700079\n",
      "Cost after iteration 100: 0.668731\n",
      "Cost after iteration 200: 0.655653\n",
      "Cost after iteration 300: 0.644420\n",
      "Cost after iteration 400: 0.634646\n",
      "Cost after iteration 500: 0.625999\n",
      "Cost after iteration 600: 0.618205\n",
      "Cost after iteration 700: 0.611177\n",
      "Cost after iteration 800: 0.604850\n",
      "Cost after iteration 900: 0.598988\n",
      "Cost after iteration 1000: 0.593630\n",
      "Cost after iteration 1100: 0.588694\n",
      "Cost after iteration 1200: 0.584043\n",
      "Cost after iteration 1300: 0.579753\n",
      "Cost after iteration 1400: 0.575750\n",
      "Cost after iteration 1500: 0.571867\n",
      "Cost after iteration 1600: 0.568339\n",
      "Cost after iteration 1700: 0.564907\n",
      "Cost after iteration 1800: 0.561693\n",
      "Cost after iteration 1900: 0.558711\n",
      "train accuracy: 75.11553501599715 %\n",
      "test accuracy: 71.21535181236675 %\n",
      "\n",
      "Learning rate: 0.0005, batched: False\n",
      "Cost after iteration 0: 0.700621\n",
      "Cost after iteration 100: 0.684420\n",
      "Cost after iteration 200: 0.677820\n",
      "Cost after iteration 300: 0.673623\n",
      "Cost after iteration 400: 0.670107\n",
      "Cost after iteration 500: 0.666854\n",
      "Cost after iteration 600: 0.663755\n",
      "Cost after iteration 700: 0.660778\n",
      "Cost after iteration 800: 0.657909\n",
      "Cost after iteration 900: 0.655140\n",
      "Cost after iteration 1000: 0.652464\n",
      "Cost after iteration 1100: 0.649876\n",
      "Cost after iteration 1200: 0.647370\n",
      "Cost after iteration 1300: 0.644942\n",
      "Cost after iteration 1400: 0.642587\n",
      "Cost after iteration 1500: 0.640302\n",
      "Cost after iteration 1600: 0.638084\n",
      "Cost after iteration 1700: 0.635927\n",
      "Cost after iteration 1800: 0.633831\n",
      "Cost after iteration 1900: 0.631791\n",
      "train accuracy: 68.92996800568787 %\n",
      "test accuracy: 65.13859275053305 %\n",
      "\n",
      "Learning rate: 0.0005, batched: True\n",
      "Cost after iteration 0: 0.698111\n",
      "Cost after iteration 100: 0.625859\n",
      "Cost after iteration 200: 0.593630\n",
      "Cost after iteration 300: 0.571857\n",
      "Cost after iteration 400: 0.555709\n",
      "Cost after iteration 500: 0.543030\n",
      "Cost after iteration 600: 0.532538\n",
      "Cost after iteration 700: 0.523778\n",
      "Cost after iteration 800: 0.516366\n",
      "Cost after iteration 900: 0.509827\n",
      "Cost after iteration 1000: 0.504161\n",
      "Cost after iteration 1100: 0.499143\n",
      "Cost after iteration 1200: 0.494571\n",
      "Cost after iteration 1300: 0.490493\n",
      "Cost after iteration 1400: 0.486878\n",
      "Cost after iteration 1500: 0.483321\n",
      "Cost after iteration 1600: 0.480246\n",
      "Cost after iteration 1700: 0.477258\n",
      "Cost after iteration 1800: 0.474547\n",
      "Cost after iteration 1900: 0.472130\n",
      "train accuracy: 78.84820476359758 %\n",
      "test accuracy: 74.84008528784648 %\n",
      "\n",
      "Learning rate: 0.0010, batched: False\n",
      "Cost after iteration 0: 0.700621\n",
      "Cost after iteration 100: 0.677810\n",
      "Cost after iteration 200: 0.670104\n",
      "Cost after iteration 300: 0.663753\n",
      "Cost after iteration 400: 0.657907\n",
      "Cost after iteration 500: 0.652462\n",
      "Cost after iteration 600: 0.647367\n",
      "Cost after iteration 700: 0.642585\n",
      "Cost after iteration 800: 0.638081\n",
      "Cost after iteration 900: 0.633828\n",
      "Cost after iteration 1000: 0.629803\n",
      "Cost after iteration 1100: 0.625985\n",
      "Cost after iteration 1200: 0.622356\n",
      "Cost after iteration 1300: 0.618899\n",
      "Cost after iteration 1400: 0.615601\n",
      "Cost after iteration 1500: 0.612450\n",
      "Cost after iteration 1600: 0.609433\n",
      "Cost after iteration 1700: 0.606542\n",
      "Cost after iteration 1800: 0.603766\n",
      "Cost after iteration 1900: 0.601099\n",
      "train accuracy: 71.91610380376821 %\n",
      "test accuracy: 68.7633262260128 %\n",
      "\n",
      "Learning rate: 0.0010, batched: True\n",
      "Cost after iteration 0: 0.696034\n",
      "Cost after iteration 100: 0.593545\n",
      "Cost after iteration 200: 0.555732\n",
      "Cost after iteration 300: 0.532517\n",
      "Cost after iteration 400: 0.516360\n",
      "Cost after iteration 500: 0.504276\n",
      "Cost after iteration 600: 0.494598\n",
      "Cost after iteration 700: 0.486751\n",
      "Cost after iteration 800: 0.480230\n",
      "Cost after iteration 900: 0.474528\n",
      "Cost after iteration 1000: 0.469642\n",
      "Cost after iteration 1100: 0.465317\n",
      "Cost after iteration 1200: 0.461361\n",
      "Cost after iteration 1300: 0.457831\n",
      "Cost after iteration 1400: 0.454738\n",
      "Cost after iteration 1500: 0.451604\n",
      "Cost after iteration 1600: 0.448915\n",
      "Cost after iteration 1700: 0.446261\n",
      "Cost after iteration 1800: 0.443850\n",
      "Cost after iteration 1900: 0.441709\n",
      "train accuracy: 80.59011731247779 %\n",
      "test accuracy: 76.65245202558636 %\n",
      "\n",
      "Learning rate: 0.0050, batched: False\n",
      "Cost after iteration 0: 0.700621\n",
      "Cost after iteration 100: 0.652444\n",
      "Cost after iteration 200: 0.629782\n",
      "Cost after iteration 300: 0.612428\n",
      "Cost after iteration 400: 0.598512\n",
      "Cost after iteration 500: 0.586970\n",
      "Cost after iteration 600: 0.577151\n",
      "Cost after iteration 700: 0.568634\n",
      "Cost after iteration 800: 0.561132\n",
      "Cost after iteration 900: 0.554446\n",
      "Cost after iteration 1000: 0.548430\n",
      "Cost after iteration 1100: 0.542975\n",
      "Cost after iteration 1200: 0.537995\n",
      "Cost after iteration 1300: 0.533423\n",
      "Cost after iteration 1400: 0.529207\n",
      "Cost after iteration 1500: 0.525301\n",
      "Cost after iteration 1600: 0.521670\n",
      "Cost after iteration 1700: 0.518281\n",
      "Cost after iteration 1800: 0.515109\n",
      "Cost after iteration 1900: 0.512132\n",
      "train accuracy: 77.10629221471739 %\n",
      "test accuracy: 74.52025586353945 %\n",
      "\n",
      "Learning rate: 0.0050, batched: True\n",
      "Cost after iteration 0: 0.687106\n",
      "Cost after iteration 100: 0.504325\n",
      "Cost after iteration 200: 0.469909\n",
      "Cost after iteration 300: 0.451722\n",
      "Cost after iteration 400: 0.439699\n",
      "Cost after iteration 500: 0.430500\n",
      "Cost after iteration 600: 0.422912\n",
      "Cost after iteration 700: 0.416656\n",
      "Cost after iteration 800: 0.411292\n",
      "Cost after iteration 900: 0.406472\n",
      "Cost after iteration 1000: 0.402300\n",
      "Cost after iteration 1100: 0.398487\n",
      "Cost after iteration 1200: 0.394899\n",
      "Cost after iteration 1300: 0.391729\n",
      "Cost after iteration 1400: 0.388933\n",
      "Cost after iteration 1500: 0.386057\n",
      "Cost after iteration 1600: 0.383543\n",
      "Cost after iteration 1700: 0.381080\n",
      "Cost after iteration 1800: 0.378751\n",
      "Cost after iteration 1900: 0.376735\n",
      "train accuracy: 83.96729470316389 %\n",
      "test accuracy: 77.71855010660981 %\n",
      "\n",
      "Learning rate: 0.0100, batched: False\n",
      "Cost after iteration 0: 0.700621\n",
      "Cost after iteration 100: 0.629755\n",
      "Cost after iteration 200: 0.598486\n",
      "Cost after iteration 300: 0.577130\n",
      "Cost after iteration 400: 0.561114\n",
      "Cost after iteration 500: 0.548414\n",
      "Cost after iteration 600: 0.537980\n",
      "Cost after iteration 700: 0.529194\n",
      "Cost after iteration 800: 0.521658\n",
      "Cost after iteration 900: 0.515099\n",
      "Cost after iteration 1000: 0.509320\n",
      "Cost after iteration 1100: 0.504177\n",
      "Cost after iteration 1200: 0.499559\n",
      "Cost after iteration 1300: 0.495379\n",
      "Cost after iteration 1400: 0.491571\n",
      "Cost after iteration 1500: 0.488079\n",
      "Cost after iteration 1600: 0.484860\n",
      "Cost after iteration 1700: 0.481878\n",
      "Cost after iteration 1800: 0.479104\n",
      "Cost after iteration 1900: 0.476511\n",
      "train accuracy: 78.56381087806612 %\n",
      "test accuracy: 74.73347547974413 %\n",
      "\n",
      "Learning rate: 0.0100, batched: True\n",
      "Cost after iteration 0: 0.681768\n",
      "Cost after iteration 100: 0.470091\n",
      "Cost after iteration 200: 0.439937\n",
      "Cost after iteration 300: 0.423017\n",
      "Cost after iteration 400: 0.411602\n",
      "Cost after iteration 500: 0.402553\n",
      "Cost after iteration 600: 0.395073\n",
      "Cost after iteration 700: 0.388953\n",
      "Cost after iteration 800: 0.383645\n",
      "Cost after iteration 900: 0.378899\n",
      "Cost after iteration 1000: 0.374792\n",
      "Cost after iteration 1100: 0.371010\n",
      "Cost after iteration 1200: 0.367393\n",
      "Cost after iteration 1300: 0.364322\n",
      "Cost after iteration 1400: 0.361563\n",
      "Cost after iteration 1500: 0.358799\n",
      "Cost after iteration 1600: 0.356269\n",
      "Cost after iteration 1700: 0.353892\n",
      "Cost after iteration 1800: 0.351546\n",
      "Cost after iteration 1900: 0.349560\n",
      "train accuracy: 85.31816565943832 %\n",
      "test accuracy: 77.71855010660981 %\n"
     ]
    }
   ],
   "source": [
    "data = {}\n",
    "\n",
    "for lr in [1e-4, 5e-4, 1e-3, 5e-3, 1e-2]:\n",
    "    for batched in [False, True]:\n",
    "        print(f\"\\nLearning rate: {lr:.4f}, batched: {batched}\")\n",
    "        d = train_eval(X_train, Y_train, X_test, Y_test, batched=batched, batch_size=128, num_iterations=2000, learning_rate=lr, print_cost=True)\n",
    "        data[f\"{lr:.4f} batched {batched}\"] = d"
   ]
  },
  {
   "cell_type": "markdown",
   "metadata": {},
   "source": [
    "Stochasticity helps to fit more accurate models.\n",
    "\n",
    "With growth of learning rate learning curves become less smooth."
   ]
  },
  {
   "cell_type": "code",
   "execution_count": 46,
   "metadata": {},
   "outputs": [
    {
     "data": {
      "image/png": "[encoded data removed]",
      "text/plain": [
       "<Figure size 720x360 with 2 Axes>"
      ]
     },
     "metadata": {
      "needs_background": "light"
     },
     "output_type": "display_data"
    }
   ],
   "source": [
    "fig, ax = plt.subplots(ncols=2, figsize=(10, 5), sharey=True, sharex=True)\n",
    "for lr, color in zip([1e-4, 5e-4, 1e-3, 5e-3, 1e-2], [\"orange\", \"green\", \"red\", \"purple\", \"darkblue\"]):\n",
    "    for idx, batched in enumerate([False, True]):\n",
    "        cost = data[f\"{lr:.4f} batched {batched}\"][\"costs\"]\n",
    "        ax[idx].plot(np.arange(len(cost)), cost, color=color, label=f\"lr {lr:.4f}\")\n",
    "        \n",
    "ax[0].set_title(\"Learning curves for GD\")\n",
    "ax[1].set_title(\"Learning curves for SGD\")\n",
    "ax[0].set_ylabel(\"Loss\")\n",
    "ax[0].set_xlabel(\"Iteration\")\n",
    "ax[1].set_xlabel(\"Iteration\")\n",
    "plt.show()"
   ]
  },
  {
   "cell_type": "markdown",
   "metadata": {},
   "source": [
    "With increase of learning rate the train accuracy always increases. The test accuracy also increases for the case of simple gradient descent without stochasticity, but in the case of SGD the model starts overfitting when learning rate is equal to 0.01 - the train accuracy is higher than for lr=0.005, but the test accuracy is lower."
   ]
  },
  {
   "cell_type": "code",
   "execution_count": 57,
   "metadata": {},
   "outputs": [
    {
     "data": {
      "image/png": "[encoded data removed]",
      "text/plain": [
       "<Figure size 432x288 with 2 Axes>"
      ]
     },
     "metadata": {
      "needs_background": "light"
     },
     "output_type": "display_data"
    },
    {
     "data": {
      "image/png": "[encoded data removed]",
      "text/plain": [
       "<Figure size 432x288 with 2 Axes>"
      ]
     },
     "metadata": {
      "needs_background": "light"
     },
     "output_type": "display_data"
    }
   ],
   "source": [
    "df = pd.DataFrame({\n",
    "    \"GD\": [metrics.accuracy_score(Y_train, data[f\"{lr:.4f} batched False\"][\"Y_prediction_train\"]) for lr in [1e-4, 5e-4, 1e-3, 5e-3, 1e-2]],\n",
    "    \"SGD\": [metrics.accuracy_score(Y_train, data[f\"{lr:.4f} batched True\"][\"Y_prediction_train\"]) for lr in [1e-4, 5e-4, 1e-3, 5e-3, 1e-2]]\n",
    "}, index=pd.Index([1e-4, 5e-4, 1e-3, 5e-3, 1e-2], name=\"lr\"))\n",
    "sns.heatmap(df, annot=True)\n",
    "plt.title(\"Train accuracy\")\n",
    "plt.show();\n",
    "\n",
    "df = pd.DataFrame({\n",
    "    \"GD\": [metrics.accuracy_score(Y_test, data[f\"{lr:.4f} batched False\"][\"Y_prediction_test\"]) for lr in [1e-4, 5e-4, 1e-3, 5e-3, 1e-2]],\n",
    "    \"SGD\": [metrics.accuracy_score(Y_test, data[f\"{lr:.4f} batched True\"][\"Y_prediction_test\"]) for lr in [1e-4, 5e-4, 1e-3, 5e-3, 1e-2]]\n",
    "}, index=pd.Index([1e-4, 5e-4, 1e-3, 5e-3, 1e-2], name=\"lr\"))\n",
    "sns.heatmap(df, annot=True)\n",
    "plt.title(\"Test accuracy\")\n",
    "plt.show();"
   ]
  },
  {
   "cell_type": "markdown",
   "metadata": {},
   "source": [
    "# (4) Implement the Adam optimization method using the numpy library and compare the accuracy of the model fitted with it with the models trained by the classic GD and SGD algorithms."
   ]
  },
  {
   "cell_type": "code",
   "execution_count": 61,
   "metadata": {},
   "outputs": [
    {
     "name": "stdout",
     "output_type": "stream",
     "text": [
      "\n",
      "Learning rate: 0.0001, Adam\n",
      "Cost after iteration 0: 0.692789\n",
      "Cost after iteration 100: 0.500022\n",
      "Cost after iteration 200: 0.449071\n",
      "Cost after iteration 300: 0.419499\n",
      "Cost after iteration 400: 0.399256\n",
      "Cost after iteration 500: 0.384460\n",
      "Cost after iteration 600: 0.372643\n",
      "Cost after iteration 700: 0.362935\n",
      "Cost after iteration 800: 0.354786\n",
      "Cost after iteration 900: 0.347599\n",
      "Cost after iteration 1000: 0.341431\n",
      "Cost after iteration 1100: 0.335840\n",
      "Cost after iteration 1200: 0.330696\n",
      "Cost after iteration 1300: 0.325925\n",
      "Cost after iteration 1400: 0.321786\n",
      "Cost after iteration 1500: 0.317665\n",
      "Cost after iteration 1600: 0.314066\n",
      "Cost after iteration 1700: 0.310449\n",
      "Cost after iteration 1800: 0.307163\n",
      "Cost after iteration 1900: 0.304235\n",
      "train accuracy: 87.34447209384999 %\n",
      "test accuracy: 77.50533049040511 %\n",
      "\n",
      "Learning rate: 0.0005, Adam\n",
      "Cost after iteration 0: 0.684324\n",
      "Cost after iteration 100: 0.391595\n",
      "Cost after iteration 200: 0.348470\n",
      "Cost after iteration 300: 0.323624\n",
      "Cost after iteration 400: 0.306097\n",
      "Cost after iteration 500: 0.293503\n",
      "Cost after iteration 600: 0.282336\n",
      "Cost after iteration 700: 0.273485\n",
      "Cost after iteration 800: 0.265905\n",
      "Cost after iteration 900: 0.259439\n",
      "Cost after iteration 1000: 0.253508\n",
      "Cost after iteration 1100: 0.248154\n",
      "Cost after iteration 1200: 0.243479\n",
      "Cost after iteration 1300: 0.238883\n",
      "Cost after iteration 1400: 0.234897\n",
      "Cost after iteration 1500: 0.230978\n",
      "Cost after iteration 1600: 0.227902\n",
      "Cost after iteration 1700: 0.224307\n",
      "Cost after iteration 1800: 0.221366\n",
      "Cost after iteration 1900: 0.218633\n",
      "train accuracy: 92.03697120511909 %\n",
      "test accuracy: 75.3731343283582 %\n",
      "\n",
      "Learning rate: 0.0010, Adam\n",
      "Cost after iteration 0: 0.675533\n",
      "Cost after iteration 100: 0.351728\n",
      "Cost after iteration 200: 0.310251\n",
      "Cost after iteration 300: 0.286217\n",
      "Cost after iteration 400: 0.269270\n",
      "Cost after iteration 500: 0.256993\n",
      "Cost after iteration 600: 0.246334\n",
      "Cost after iteration 700: 0.238331\n",
      "Cost after iteration 800: 0.230743\n",
      "Cost after iteration 900: 0.225051\n",
      "Cost after iteration 1000: 0.218580\n"
     ]
    },
    {
     "name": "stderr",
     "output_type": "stream",
     "text": [
      "/home/glyc/.virtualenvs/algo/lib/python3.6/site-packages/ipykernel_launcher.py:17: RuntimeWarning: divide by zero encountered in log\n",
      "/home/glyc/.virtualenvs/algo/lib/python3.6/site-packages/ipykernel_launcher.py:17: RuntimeWarning: invalid value encountered in multiply\n"
     ]
    },
    {
     "name": "stdout",
     "output_type": "stream",
     "text": [
      "Cost after iteration 1100: nan\n",
      "Cost after iteration 1200: nan\n",
      "Cost after iteration 1300: nan\n",
      "Cost after iteration 1400: nan\n",
      "Cost after iteration 1500: nan\n",
      "Cost after iteration 1600: nan\n",
      "Cost after iteration 1700: nan\n",
      "Cost after iteration 1800: nan\n",
      "Cost after iteration 1900: nan\n",
      "train accuracy: 93.28119445431923 %\n",
      "test accuracy: 75.15991471215352 %\n",
      "\n",
      "Learning rate: 0.0050, Adam\n",
      "Cost after iteration 0: 0.651977\n",
      "Cost after iteration 100: 0.272033\n",
      "Cost after iteration 200: 0.234483\n",
      "Cost after iteration 300: nan\n",
      "Cost after iteration 400: nan\n",
      "Cost after iteration 500: nan\n",
      "Cost after iteration 600: nan\n",
      "Cost after iteration 700: nan\n",
      "Cost after iteration 800: nan\n",
      "Cost after iteration 900: nan\n",
      "Cost after iteration 1000: nan\n",
      "Cost after iteration 1100: nan\n",
      "Cost after iteration 1200: nan\n",
      "Cost after iteration 1300: nan\n",
      "Cost after iteration 1400: nan\n",
      "Cost after iteration 1500: nan\n",
      "Cost after iteration 1600: nan\n",
      "Cost after iteration 1700: nan\n",
      "Cost after iteration 1800: nan\n",
      "Cost after iteration 1900: nan\n",
      "train accuracy: 96.5161749022396 %\n",
      "test accuracy: 72.60127931769722 %\n",
      "\n",
      "Learning rate: 0.0100, Adam\n",
      "Cost after iteration 0: 0.635920\n",
      "Cost after iteration 100: 0.242868\n",
      "Cost after iteration 200: nan\n",
      "Cost after iteration 300: nan\n",
      "Cost after iteration 400: nan\n",
      "Cost after iteration 500: nan\n",
      "Cost after iteration 600: nan\n",
      "Cost after iteration 700: nan\n",
      "Cost after iteration 800: nan\n",
      "Cost after iteration 900: nan\n",
      "Cost after iteration 1000: nan\n",
      "Cost after iteration 1100: nan\n",
      "Cost after iteration 1200: nan\n",
      "Cost after iteration 1300: nan\n",
      "Cost after iteration 1400: nan\n",
      "Cost after iteration 1500: nan\n",
      "Cost after iteration 1600: nan\n",
      "Cost after iteration 1700: nan\n",
      "Cost after iteration 1800: nan\n",
      "Cost after iteration 1900: nan\n",
      "train accuracy: 97.65375044436544 %\n",
      "test accuracy: 72.38805970149254 %\n"
     ]
    }
   ],
   "source": [
    "for lr in [1e-4, 5e-4, 1e-3, 5e-3, 1e-2]:\n",
    "    print(f\"\\nLearning rate: {lr:.4f}, Adam\")\n",
    "    d = train_eval(X_train, Y_train, X_test, Y_test, algorithm_name=\"Adam\", batched=True, batch_size=128, num_iterations=2000, learning_rate=lr, print_cost=True)\n",
    "    data[f\"{lr:.4f} Adam\"] = d"
   ]
  },
  {
   "cell_type": "markdown",
   "metadata": {},
   "source": [
    "Oh, great, Adam cannot be learned using too high learning rates because of gradient instability."
   ]
  },
  {
   "cell_type": "code",
   "execution_count": 63,
   "metadata": {},
   "outputs": [
    {
     "data": {
      "image/png": "[encoded data removed]",
      "text/plain": [
       "<Figure size 1080x360 with 3 Axes>"
      ]
     },
     "metadata": {
      "needs_background": "light"
     },
     "output_type": "display_data"
    }
   ],
   "source": [
    "fig, ax = plt.subplots(ncols=3, figsize=(15, 5), sharey=True, sharex=True)\n",
    "for lr, color in zip([1e-4, 5e-4, 1e-3, 5e-3, 1e-2], [\"orange\", \"green\", \"red\", \"purple\", \"darkblue\"]):\n",
    "    for idx, optim in enumerate([\"batched False\", \"batched True\", \"Adam\"]):\n",
    "        cost = data[f\"{lr:.4f} {optim}\"][\"costs\"]\n",
    "        ax[idx].plot(np.arange(len(cost)), cost, color=color, label=f\"lr {lr:.4f}\")\n",
    "        \n",
    "ax[0].set_title(\"Learning curves for GD\")\n",
    "ax[1].set_title(\"Learning curves for SGD\")\n",
    "ax[2].set_title(\"Learning curves for Adam\")\n",
    "ax[0].set_ylabel(\"Loss\")\n",
    "ax[0].set_xlabel(\"Iteration\")\n",
    "ax[1].set_xlabel(\"Iteration\")\n",
    "ax[2].set_xlabel(\"Iteration\")\n",
    "plt.show()"
   ]
  },
  {
   "cell_type": "markdown",
   "metadata": {},
   "source": [
    "Adam overfits the data even more fast than SGD - it reaches the maximum of test accuracy at learning rate 1e-4."
   ]
  },
  {
   "cell_type": "code",
   "execution_count": 64,
   "metadata": {},
   "outputs": [
    {
     "data": {
      "image/png": "[encoded data removed]",
      "text/plain": [
       "<Figure size 432x288 with 2 Axes>"
      ]
     },
     "metadata": {
      "needs_background": "light"
     },
     "output_type": "display_data"
    },
    {
     "data": {
      "image/png": "[encoded data removed]",
      "text/plain": [
       "<Figure size 432x288 with 2 Axes>"
      ]
     },
     "metadata": {
      "needs_background": "light"
     },
     "output_type": "display_data"
    }
   ],
   "source": [
    "df = pd.DataFrame({\n",
    "    \"GD\": [metrics.accuracy_score(Y_train, data[f\"{lr:.4f} batched False\"][\"Y_prediction_train\"]) for lr in [1e-4, 5e-4, 1e-3, 5e-3, 1e-2]],\n",
    "    \"SGD\": [metrics.accuracy_score(Y_train, data[f\"{lr:.4f} batched True\"][\"Y_prediction_train\"]) for lr in [1e-4, 5e-4, 1e-3, 5e-3, 1e-2]],\n",
    "    \"Adam\": [metrics.accuracy_score(Y_train, data[f\"{lr:.4f} Adam\"][\"Y_prediction_train\"]) for lr in [1e-4, 5e-4, 1e-3, 5e-3, 1e-2]],\n",
    "}, index=pd.Index([1e-4, 5e-4, 1e-3, 5e-3, 1e-2], name=\"lr\"))\n",
    "sns.heatmap(df, annot=True)\n",
    "plt.title(\"Train accuracy\")\n",
    "plt.show();\n",
    "\n",
    "df = pd.DataFrame({\n",
    "    \"GD\": [metrics.accuracy_score(Y_test, data[f\"{lr:.4f} batched False\"][\"Y_prediction_test\"]) for lr in [1e-4, 5e-4, 1e-3, 5e-3, 1e-2]],\n",
    "    \"SGD\": [metrics.accuracy_score(Y_test, data[f\"{lr:.4f} batched True\"][\"Y_prediction_test\"]) for lr in [1e-4, 5e-4, 1e-3, 5e-3, 1e-2]],\n",
    "    \"Adam\": [metrics.accuracy_score(Y_test, data[f\"{lr:.4f} Adam\"][\"Y_prediction_test\"]) for lr in [1e-4, 5e-4, 1e-3, 5e-3, 1e-2]],\n",
    "}, index=pd.Index([1e-4, 5e-4, 1e-3, 5e-3, 1e-2], name=\"lr\"))\n",
    "sns.heatmap(df, annot=True)\n",
    "plt.title(\"Test accuracy\")\n",
    "plt.show();"
   ]
  },
  {
   "cell_type": "code",
   "execution_count": null,
   "metadata": {},
   "outputs": [],
   "source": []
  }
 ],
 "metadata": {
  "kernelspec": {
   "display_name": "Python 3",
   "language": "python",
   "name": "python3"
  },
  "language_info": {
   "codemirror_mode": {
    "name": "ipython",
    "version": 3
   },
   "file_extension": ".py",
   "mimetype": "text/x-python",
   "name": "python",
   "nbconvert_exporter": "python",
   "pygments_lexer": "ipython3",
   "version": "3.6.9"
  }
 },
 "nbformat": 4,
 "nbformat_minor": 4
}
